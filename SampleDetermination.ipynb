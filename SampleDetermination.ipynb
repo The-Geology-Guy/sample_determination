{
  "nbformat": 4,
  "nbformat_minor": 0,
  "metadata": {
    "kernelspec": {
      "display_name": "Python 3",
      "language": "python",
      "name": "python3"
    },
    "language_info": {
      "codemirror_mode": {
        "name": "ipython",
        "version": 3
      },
      "file_extension": ".py",
      "mimetype": "text/x-python",
      "name": "python",
      "nbconvert_exporter": "python",
      "pygments_lexer": "ipython3",
      "version": "3.7.0"
    },
    "colab": {
      "name": "SampleDetermination.ipynb",
      "provenance": [],
      "include_colab_link": true
    }
  },
  "cells": [
    {
      "cell_type": "markdown",
      "metadata": {
        "id": "view-in-github",
        "colab_type": "text"
      },
      "source": [
        "<a href=\"https://colab.research.google.com/github/The-Geology-Guy/sample_determination/blob/main/SampleDetermination.ipynb\" target=\"_parent\"><img src=\"https://colab.research.google.com/assets/colab-badge.svg\" alt=\"Open In Colab\"/></a>"
      ]
    },
    {
      "cell_type": "markdown",
      "metadata": {
        "id": "FVLE5ldf3_0d"
      },
      "source": [
        "\n",
        "## Null Hypothesis Significance Testing (NHST)\n",
        "\n",
        "##### _March, 2019_\n",
        "\n",
        "PAJER, Luke. luke.pajer@gmail.com\n",
        "\n",
        "---------------------\n",
        "\n"
      ]
    },
    {
      "cell_type": "code",
      "metadata": {
        "id": "hjBeoEc23_0p"
      },
      "source": [
        "import numpy as np\n",
        "import pandas as pd\n",
        "import scipy.stats\n",
        "from IPython.display import display, Markdown, Latex\n",
        "pd.set_option('display.max_colwidth', 0)"
      ],
      "execution_count": 1,
      "outputs": []
    },
    {
      "cell_type": "markdown",
      "metadata": {
        "id": "PIQdOQMB3_0s"
      },
      "source": [
        "#### Determine Alpha Function"
      ]
    },
    {
      "cell_type": "code",
      "metadata": {
        "id": "9IpbEPLI3_0s"
      },
      "source": [
        "def alpha_cv(a):\n",
        "    alpha_dict = {\"0.10\": 1.282, \"0.05\": 1.645, \"0.025\": 1.960, \"0.01\": 2.326, \"0.005\": 2.576, \"0.001\": 3.090, \"0.0005\": 3.291}\n",
        "    return alpha_dict.get(a, \"\")"
      ],
      "execution_count": 2,
      "outputs": []
    },
    {
      "cell_type": "markdown",
      "metadata": {
        "id": "br7SJJ053_00"
      },
      "source": [
        "#### Determine Rejection of Null Hypothesis Function"
      ]
    },
    {
      "cell_type": "code",
      "metadata": {
        "id": "4Ch_muQS3_01"
      },
      "source": [
        "def rejection(z_cv, z_alpha, rr):\n",
        "    if (rr == 'upper'):\n",
        "        test = (z_cv >= z_alpha)\n",
        "    elif (rr == 'lower'):\n",
        "        test = (z_cv <= (-1 * z_alpha))\n",
        "    elif (rr == 'two'):\n",
        "        test = ((z_cv >= z_alpha) & (z_cv <= z_alpha))\n",
        "    return test"
      ],
      "execution_count": 3,
      "outputs": []
    },
    {
      "cell_type": "markdown",
      "metadata": {
        "id": "c7yXJBxt3_03"
      },
      "source": [
        "#### Explain the Rejection Function"
      ]
    },
    {
      "cell_type": "code",
      "metadata": {
        "id": "4Cmj5G7y3_04"
      },
      "source": [
        "def rej_explain(z, a, alpha, r, rr):\n",
        "    if ((r == True) & (rr == 'upper')):\n",
        "        explain = (str(np.round(z, 3)) + \" $\\geq$ \" + str(a) + \n",
        "                   r\": $\\text{Reject}$ $H_{0}$ because the Test statistic $(z)$ falls in the Rejection Region ($z$ $\\geq$ $z_{\\alpha}$ = \" + \n",
        "                   str(alpha) + \").\")\n",
        "    elif ((r == True) & (rr == 'lower')):\n",
        "        explain = (str(np.round(z, 3)) + \" $\\leq$ -\" + str(a) + \n",
        "                   r\": $\\text{Reject}$ $H_{0}$ because the Test statistic $(z)$ falls in the Rejection Region ($z$ $\\leq$ $-z_{\\alpha}$ = \" + \n",
        "                   str(alpha) + \").\")\n",
        "    elif ((r == True) & (rr == 'two')):\n",
        "        explain = \"\"\n",
        "    elif ((r == False) & (rr == 'upper')):\n",
        "        explain = (str(np.round(z, 3)) + \" $\\leq$ \" + str(a) + \n",
        "                   r\": $\\text{Do not reject}$ $H_{0}$ because the Test statistic $(z)$ does not fall in the Rejection Region ($z$ $\\geq$ $z_{\\alpha}$ = \" + \n",
        "                   str(alpha) + \").\")\n",
        "    elif ((r == False) & (rr == 'lower')):\n",
        "        explain = (str(np.round(z, 3)) + \" $\\geq$ -\" + str(a) + \n",
        "                   r\": $\\text{Do not reject}$ $H_{0}$ because the Test statistic $(z)$ does not fall in the Rejection Region ($z$ $\\leq$ $-z_{\\alpha}$ = \" + \n",
        "                   str(alpha) + \").\")\n",
        "    elif ((r == False) & (rr == 'two')):\n",
        "        explain = \"\"\n",
        "    return display(Markdown(explain))"
      ],
      "execution_count": 4,
      "outputs": []
    },
    {
      "cell_type": "markdown",
      "metadata": {
        "id": "KJZAf2hy3_06"
      },
      "source": [
        "#### Compute the Test Statistic Value"
      ]
    },
    {
      "cell_type": "code",
      "metadata": {
        "id": "wHPRpcv63_07"
      },
      "source": [
        "def ztest(p_hat, p_0, nt, alpha, reject_region):\n",
        "    valid_head = ((nt * p_0) >= 10)\n",
        "    valid_tail = ((nt * (1 - p_0)) >= 10)\n",
        "    if (valid_head & valid_tail):\n",
        "        zt = (p_hat - p_0)/(np.sqrt((p_0 *(1 - p_0))/nt))\n",
        "        alpha_1 = alpha_cv(alpha)\n",
        "        answer = rejection(zt, alpha_1, reject_region)\n",
        "        return rej_explain(zt, alpha_1, alpha, answer, reject_region)\n",
        "    else:\n",
        "        return display(Markdown(\"Does not meet the test procedures requirements\"))"
      ],
      "execution_count": 5,
      "outputs": []
    },
    {
      "cell_type": "markdown",
      "metadata": {
        "id": "TgYUcjA23_0_"
      },
      "source": [
        "#### Solve for Sample Size needed\n",
        "\n",
        "_Take a look into the beta error function, does it need to be subtracted by one?_"
      ]
    },
    {
      "cell_type": "code",
      "metadata": {
        "id": "P0ewVWQE3_1C"
      },
      "source": [
        "def sampleDeter(p0, p1, za, ns):\n",
        "    za = alpha_cv(za)\n",
        "    phi_z = (p0 - p1 + za * np.sqrt(abs(p0 * (1 - p0))/ns)) / np.sqrt(abs((p1 * (1 - p1)))/ns)\n",
        "    beta_err = scipy.stats.norm.cdf(phi_z)\n",
        "    n = (((za * np.sqrt(p0 * (1 - p0))) + (za * np.sqrt(p1 * (1 - p1)))) / (p1 - p0)) ** 2\n",
        "    retest = p0 + (za * np.sqrt((p0 * (1-p0))/ns))\n",
        "    return pd.DataFrame.from_dict({r'$\\beta$': [np.round(beta_err, 3)], \n",
        "                                   r\"$n$\": [int(np.round(n, 0))], \n",
        "                                   r\"$z$\": [np.round(phi_z, 3)], \n",
        "                                   r\"$p$\": [np.round(p0, 3)],\n",
        "                                   r\"$p'$\": [np.round(p1, 3)],\n",
        "                                   r\"$c$\": [np.round(retest, 3)]\n",
        "                                  })"
      ],
      "execution_count": 6,
      "outputs": []
    },
    {
      "cell_type": "markdown",
      "metadata": {
        "id": "b_izLHfS3_1F"
      },
      "source": [
        "### Run the NHST for each Type I Error $(\\alpha)$"
      ]
    },
    {
      "cell_type": "code",
      "metadata": {
        "id": "ZZ8VEi9c3_1G"
      },
      "source": [
        "def to_md(p0, p1, n, tail):\n",
        "    alpha_list = [\"0.10\", \"0.05\", \"0.025\", \"0.01\", \"0.005\", \"0.001\", \"0.0005\"]\n",
        "    i = 0\n",
        "    while i < len(alpha_list):\n",
        "        alpha_a = alpha_list[i]\n",
        "        display(Markdown(\"--------------------\"))\n",
        "        display(Markdown(r\"$\\text{For Type I Error } (\\alpha)$ = \" + alpha_a))\n",
        "        ztest(p1, p0, n, str(alpha_a), tail)\n",
        "        test = sampleDeter(p0, p1, str(alpha_a), n)\n",
        "        beta_, n_, z_, p0_, p1_, c_ = test.iloc[0,0], test.iloc[0,1], test.iloc[0,2], test.iloc[0,3], test.iloc[0,4], test.iloc[0,5]\n",
        "        display(Markdown(r\"If the experiment collects data on $n =$ \" + str(n_) + r\" users, and $\\text{Rejects}$ $H_{0}: p = $ \" \n",
        "                                + str(float(round(p0, 3))) + \" if the proportion of sampled users who favor the change is greater than \" + str(c_) + \n",
        "                                \", then there will be a \" + str(int(round(float(alpha_a), 2) * 100)) + \n",
        "                                r\"% chance of committing a Type I error $(\\alpha)$ and a \" + \n",
        "                                str(int(round(beta_, 2) * 100)) + r\"% chance of committing a Type II error $(\\beta)$ if the population proportion were actually \" + \n",
        "                                str(p1_) + \".\"))\n",
        "        display(Markdown(r\"$\\hat{p} =$ \" + str(float(round(p0, 3))) + r\", $p =$ \" + str(float(round(p1, 3))) + r\", $c =$ \" + str(c_)))\n",
        "        display(Markdown(r\"$n =$ \" + str(n) + r\", $n_{c} =$ \" + str(n_)))\n",
        "        display(Markdown(r\"$\\alpha =$ \" + str(alpha_a) + r\", $\\beta =$ \" + str(beta_)))\n",
        "        i +=1"
      ],
      "execution_count": 7,
      "outputs": []
    },
    {
      "cell_type": "markdown",
      "metadata": {
        "id": "3v50Rgnj3_1J"
      },
      "source": [
        "#### Enter values for the variables\n",
        "\n",
        "`p0` is the original or unmodified data to test  \n",
        "`p1` is the modified data to test  \n",
        "`n` is the total number of trials for the p1  \n",
        "`upper` is for predicting an increase  "
      ]
    },
    {
      "cell_type": "code",
      "metadata": {
        "id": "k6KYMk6W3_1J",
        "colab": {
          "base_uri": "https://localhost:8080/",
          "height": 1000
        },
        "outputId": "825bf31f-4abb-44e0-c362-491e263189ca"
      },
      "source": [
        "p0, p1, n, tail, = 0.0301, 0.0487, 256836, \"upper\"\n",
        "display(Markdown(\"### Transaction Analysis\"))\n",
        "to_md(p0, p1, n, tail)"
      ],
      "execution_count": 8,
      "outputs": [
        {
          "output_type": "display_data",
          "data": {
            "text/markdown": "### Transaction Analysis",
            "text/plain": [
              "<IPython.core.display.Markdown object>"
            ]
          },
          "metadata": {
            "tags": []
          }
        },
        {
          "output_type": "display_data",
          "data": {
            "text/markdown": "--------------------",
            "text/plain": [
              "<IPython.core.display.Markdown object>"
            ]
          },
          "metadata": {
            "tags": []
          }
        },
        {
          "output_type": "display_data",
          "data": {
            "text/markdown": "$\\text{For Type I Error } (\\alpha)$ = 0.10",
            "text/plain": [
              "<IPython.core.display.Markdown object>"
            ]
          },
          "metadata": {
            "tags": []
          }
        },
        {
          "output_type": "display_data",
          "data": {
            "text/markdown": "55.169 $\\geq$ 1.282: $\\text{Reject}$ $H_{0}$ because the Test statistic $(z)$ falls in the Rejection Region ($z$ $\\geq$ $z_{\\alpha}$ = 0.10).",
            "text/plain": [
              "<IPython.core.display.Markdown object>"
            ]
          },
          "metadata": {
            "tags": []
          }
        },
        {
          "output_type": "display_data",
          "data": {
            "text/markdown": "If the experiment collects data on $n =$ 708 users, and $\\text{Rejects}$ $H_{0}: p = $ 0.03 if the proportion of sampled users who favor the change is greater than 0.031, then there will be a 10% chance of committing a Type I error $(\\alpha)$ and a 0% chance of committing a Type II error $(\\beta)$ if the population proportion were actually 0.049.",
            "text/plain": [
              "<IPython.core.display.Markdown object>"
            ]
          },
          "metadata": {
            "tags": []
          }
        },
        {
          "output_type": "display_data",
          "data": {
            "text/markdown": "$\\hat{p} =$ 0.03, $p =$ 0.049, $c =$ 0.031",
            "text/plain": [
              "<IPython.core.display.Markdown object>"
            ]
          },
          "metadata": {
            "tags": []
          }
        },
        {
          "output_type": "display_data",
          "data": {
            "text/markdown": "$n =$ 256836, $n_{c} =$ 708",
            "text/plain": [
              "<IPython.core.display.Markdown object>"
            ]
          },
          "metadata": {
            "tags": []
          }
        },
        {
          "output_type": "display_data",
          "data": {
            "text/markdown": "$\\alpha =$ 0.10, $\\beta =$ 0.0",
            "text/plain": [
              "<IPython.core.display.Markdown object>"
            ]
          },
          "metadata": {
            "tags": []
          }
        },
        {
          "output_type": "display_data",
          "data": {
            "text/markdown": "--------------------",
            "text/plain": [
              "<IPython.core.display.Markdown object>"
            ]
          },
          "metadata": {
            "tags": []
          }
        },
        {
          "output_type": "display_data",
          "data": {
            "text/markdown": "$\\text{For Type I Error } (\\alpha)$ = 0.05",
            "text/plain": [
              "<IPython.core.display.Markdown object>"
            ]
          },
          "metadata": {
            "tags": []
          }
        },
        {
          "output_type": "display_data",
          "data": {
            "text/markdown": "55.169 $\\geq$ 1.645: $\\text{Reject}$ $H_{0}$ because the Test statistic $(z)$ falls in the Rejection Region ($z$ $\\geq$ $z_{\\alpha}$ = 0.05).",
            "text/plain": [
              "<IPython.core.display.Markdown object>"
            ]
          },
          "metadata": {
            "tags": []
          }
        },
        {
          "output_type": "display_data",
          "data": {
            "text/markdown": "If the experiment collects data on $n =$ 1166 users, and $\\text{Rejects}$ $H_{0}: p = $ 0.03 if the proportion of sampled users who favor the change is greater than 0.031, then there will be a 5% chance of committing a Type I error $(\\alpha)$ and a 0% chance of committing a Type II error $(\\beta)$ if the population proportion were actually 0.049.",
            "text/plain": [
              "<IPython.core.display.Markdown object>"
            ]
          },
          "metadata": {
            "tags": []
          }
        },
        {
          "output_type": "display_data",
          "data": {
            "text/markdown": "$\\hat{p} =$ 0.03, $p =$ 0.049, $c =$ 0.031",
            "text/plain": [
              "<IPython.core.display.Markdown object>"
            ]
          },
          "metadata": {
            "tags": []
          }
        },
        {
          "output_type": "display_data",
          "data": {
            "text/markdown": "$n =$ 256836, $n_{c} =$ 1166",
            "text/plain": [
              "<IPython.core.display.Markdown object>"
            ]
          },
          "metadata": {
            "tags": []
          }
        },
        {
          "output_type": "display_data",
          "data": {
            "text/markdown": "$\\alpha =$ 0.05, $\\beta =$ 0.0",
            "text/plain": [
              "<IPython.core.display.Markdown object>"
            ]
          },
          "metadata": {
            "tags": []
          }
        },
        {
          "output_type": "display_data",
          "data": {
            "text/markdown": "--------------------",
            "text/plain": [
              "<IPython.core.display.Markdown object>"
            ]
          },
          "metadata": {
            "tags": []
          }
        },
        {
          "output_type": "display_data",
          "data": {
            "text/markdown": "$\\text{For Type I Error } (\\alpha)$ = 0.025",
            "text/plain": [
              "<IPython.core.display.Markdown object>"
            ]
          },
          "metadata": {
            "tags": []
          }
        },
        {
          "output_type": "display_data",
          "data": {
            "text/markdown": "55.169 $\\geq$ 1.96: $\\text{Reject}$ $H_{0}$ because the Test statistic $(z)$ falls in the Rejection Region ($z$ $\\geq$ $z_{\\alpha}$ = 0.025).",
            "text/plain": [
              "<IPython.core.display.Markdown object>"
            ]
          },
          "metadata": {
            "tags": []
          }
        },
        {
          "output_type": "display_data",
          "data": {
            "text/markdown": "If the experiment collects data on $n =$ 1655 users, and $\\text{Rejects}$ $H_{0}: p = $ 0.03 if the proportion of sampled users who favor the change is greater than 0.031, then there will be a 3% chance of committing a Type I error $(\\alpha)$ and a 0% chance of committing a Type II error $(\\beta)$ if the population proportion were actually 0.049.",
            "text/plain": [
              "<IPython.core.display.Markdown object>"
            ]
          },
          "metadata": {
            "tags": []
          }
        },
        {
          "output_type": "display_data",
          "data": {
            "text/markdown": "$\\hat{p} =$ 0.03, $p =$ 0.049, $c =$ 0.031",
            "text/plain": [
              "<IPython.core.display.Markdown object>"
            ]
          },
          "metadata": {
            "tags": []
          }
        },
        {
          "output_type": "display_data",
          "data": {
            "text/markdown": "$n =$ 256836, $n_{c} =$ 1655",
            "text/plain": [
              "<IPython.core.display.Markdown object>"
            ]
          },
          "metadata": {
            "tags": []
          }
        },
        {
          "output_type": "display_data",
          "data": {
            "text/markdown": "$\\alpha =$ 0.025, $\\beta =$ 0.0",
            "text/plain": [
              "<IPython.core.display.Markdown object>"
            ]
          },
          "metadata": {
            "tags": []
          }
        },
        {
          "output_type": "display_data",
          "data": {
            "text/markdown": "--------------------",
            "text/plain": [
              "<IPython.core.display.Markdown object>"
            ]
          },
          "metadata": {
            "tags": []
          }
        },
        {
          "output_type": "display_data",
          "data": {
            "text/markdown": "$\\text{For Type I Error } (\\alpha)$ = 0.01",
            "text/plain": [
              "<IPython.core.display.Markdown object>"
            ]
          },
          "metadata": {
            "tags": []
          }
        },
        {
          "output_type": "display_data",
          "data": {
            "text/markdown": "55.169 $\\geq$ 2.326: $\\text{Reject}$ $H_{0}$ because the Test statistic $(z)$ falls in the Rejection Region ($z$ $\\geq$ $z_{\\alpha}$ = 0.01).",
            "text/plain": [
              "<IPython.core.display.Markdown object>"
            ]
          },
          "metadata": {
            "tags": []
          }
        },
        {
          "output_type": "display_data",
          "data": {
            "text/markdown": "If the experiment collects data on $n =$ 2331 users, and $\\text{Rejects}$ $H_{0}: p = $ 0.03 if the proportion of sampled users who favor the change is greater than 0.031, then there will be a 1% chance of committing a Type I error $(\\alpha)$ and a 0% chance of committing a Type II error $(\\beta)$ if the population proportion were actually 0.049.",
            "text/plain": [
              "<IPython.core.display.Markdown object>"
            ]
          },
          "metadata": {
            "tags": []
          }
        },
        {
          "output_type": "display_data",
          "data": {
            "text/markdown": "$\\hat{p} =$ 0.03, $p =$ 0.049, $c =$ 0.031",
            "text/plain": [
              "<IPython.core.display.Markdown object>"
            ]
          },
          "metadata": {
            "tags": []
          }
        },
        {
          "output_type": "display_data",
          "data": {
            "text/markdown": "$n =$ 256836, $n_{c} =$ 2331",
            "text/plain": [
              "<IPython.core.display.Markdown object>"
            ]
          },
          "metadata": {
            "tags": []
          }
        },
        {
          "output_type": "display_data",
          "data": {
            "text/markdown": "$\\alpha =$ 0.01, $\\beta =$ 0.0",
            "text/plain": [
              "<IPython.core.display.Markdown object>"
            ]
          },
          "metadata": {
            "tags": []
          }
        },
        {
          "output_type": "display_data",
          "data": {
            "text/markdown": "--------------------",
            "text/plain": [
              "<IPython.core.display.Markdown object>"
            ]
          },
          "metadata": {
            "tags": []
          }
        },
        {
          "output_type": "display_data",
          "data": {
            "text/markdown": "$\\text{For Type I Error } (\\alpha)$ = 0.005",
            "text/plain": [
              "<IPython.core.display.Markdown object>"
            ]
          },
          "metadata": {
            "tags": []
          }
        },
        {
          "output_type": "display_data",
          "data": {
            "text/markdown": "55.169 $\\geq$ 2.576: $\\text{Reject}$ $H_{0}$ because the Test statistic $(z)$ falls in the Rejection Region ($z$ $\\geq$ $z_{\\alpha}$ = 0.005).",
            "text/plain": [
              "<IPython.core.display.Markdown object>"
            ]
          },
          "metadata": {
            "tags": []
          }
        },
        {
          "output_type": "display_data",
          "data": {
            "text/markdown": "If the experiment collects data on $n =$ 2859 users, and $\\text{Rejects}$ $H_{0}: p = $ 0.03 if the proportion of sampled users who favor the change is greater than 0.031, then there will be a 1% chance of committing a Type I error $(\\alpha)$ and a 0% chance of committing a Type II error $(\\beta)$ if the population proportion were actually 0.049.",
            "text/plain": [
              "<IPython.core.display.Markdown object>"
            ]
          },
          "metadata": {
            "tags": []
          }
        },
        {
          "output_type": "display_data",
          "data": {
            "text/markdown": "$\\hat{p} =$ 0.03, $p =$ 0.049, $c =$ 0.031",
            "text/plain": [
              "<IPython.core.display.Markdown object>"
            ]
          },
          "metadata": {
            "tags": []
          }
        },
        {
          "output_type": "display_data",
          "data": {
            "text/markdown": "$n =$ 256836, $n_{c} =$ 2859",
            "text/plain": [
              "<IPython.core.display.Markdown object>"
            ]
          },
          "metadata": {
            "tags": []
          }
        },
        {
          "output_type": "display_data",
          "data": {
            "text/markdown": "$\\alpha =$ 0.005, $\\beta =$ 0.0",
            "text/plain": [
              "<IPython.core.display.Markdown object>"
            ]
          },
          "metadata": {
            "tags": []
          }
        },
        {
          "output_type": "display_data",
          "data": {
            "text/markdown": "--------------------",
            "text/plain": [
              "<IPython.core.display.Markdown object>"
            ]
          },
          "metadata": {
            "tags": []
          }
        },
        {
          "output_type": "display_data",
          "data": {
            "text/markdown": "$\\text{For Type I Error } (\\alpha)$ = 0.001",
            "text/plain": [
              "<IPython.core.display.Markdown object>"
            ]
          },
          "metadata": {
            "tags": []
          }
        },
        {
          "output_type": "display_data",
          "data": {
            "text/markdown": "55.169 $\\geq$ 3.09: $\\text{Reject}$ $H_{0}$ because the Test statistic $(z)$ falls in the Rejection Region ($z$ $\\geq$ $z_{\\alpha}$ = 0.001).",
            "text/plain": [
              "<IPython.core.display.Markdown object>"
            ]
          },
          "metadata": {
            "tags": []
          }
        },
        {
          "output_type": "display_data",
          "data": {
            "text/markdown": "If the experiment collects data on $n =$ 4114 users, and $\\text{Rejects}$ $H_{0}: p = $ 0.03 if the proportion of sampled users who favor the change is greater than 0.031, then there will be a 0% chance of committing a Type I error $(\\alpha)$ and a 0% chance of committing a Type II error $(\\beta)$ if the population proportion were actually 0.049.",
            "text/plain": [
              "<IPython.core.display.Markdown object>"
            ]
          },
          "metadata": {
            "tags": []
          }
        },
        {
          "output_type": "display_data",
          "data": {
            "text/markdown": "$\\hat{p} =$ 0.03, $p =$ 0.049, $c =$ 0.031",
            "text/plain": [
              "<IPython.core.display.Markdown object>"
            ]
          },
          "metadata": {
            "tags": []
          }
        },
        {
          "output_type": "display_data",
          "data": {
            "text/markdown": "$n =$ 256836, $n_{c} =$ 4114",
            "text/plain": [
              "<IPython.core.display.Markdown object>"
            ]
          },
          "metadata": {
            "tags": []
          }
        },
        {
          "output_type": "display_data",
          "data": {
            "text/markdown": "$\\alpha =$ 0.001, $\\beta =$ 0.0",
            "text/plain": [
              "<IPython.core.display.Markdown object>"
            ]
          },
          "metadata": {
            "tags": []
          }
        },
        {
          "output_type": "display_data",
          "data": {
            "text/markdown": "--------------------",
            "text/plain": [
              "<IPython.core.display.Markdown object>"
            ]
          },
          "metadata": {
            "tags": []
          }
        },
        {
          "output_type": "display_data",
          "data": {
            "text/markdown": "$\\text{For Type I Error } (\\alpha)$ = 0.0005",
            "text/plain": [
              "<IPython.core.display.Markdown object>"
            ]
          },
          "metadata": {
            "tags": []
          }
        },
        {
          "output_type": "display_data",
          "data": {
            "text/markdown": "55.169 $\\geq$ 3.291: $\\text{Reject}$ $H_{0}$ because the Test statistic $(z)$ falls in the Rejection Region ($z$ $\\geq$ $z_{\\alpha}$ = 0.0005).",
            "text/plain": [
              "<IPython.core.display.Markdown object>"
            ]
          },
          "metadata": {
            "tags": []
          }
        },
        {
          "output_type": "display_data",
          "data": {
            "text/markdown": "If the experiment collects data on $n =$ 4667 users, and $\\text{Rejects}$ $H_{0}: p = $ 0.03 if the proportion of sampled users who favor the change is greater than 0.031, then there will be a 0% chance of committing a Type I error $(\\alpha)$ and a 0% chance of committing a Type II error $(\\beta)$ if the population proportion were actually 0.049.",
            "text/plain": [
              "<IPython.core.display.Markdown object>"
            ]
          },
          "metadata": {
            "tags": []
          }
        },
        {
          "output_type": "display_data",
          "data": {
            "text/markdown": "$\\hat{p} =$ 0.03, $p =$ 0.049, $c =$ 0.031",
            "text/plain": [
              "<IPython.core.display.Markdown object>"
            ]
          },
          "metadata": {
            "tags": []
          }
        },
        {
          "output_type": "display_data",
          "data": {
            "text/markdown": "$n =$ 256836, $n_{c} =$ 4667",
            "text/plain": [
              "<IPython.core.display.Markdown object>"
            ]
          },
          "metadata": {
            "tags": []
          }
        },
        {
          "output_type": "display_data",
          "data": {
            "text/markdown": "$\\alpha =$ 0.0005, $\\beta =$ 0.0",
            "text/plain": [
              "<IPython.core.display.Markdown object>"
            ]
          },
          "metadata": {
            "tags": []
          }
        }
      ]
    }
  ]
}